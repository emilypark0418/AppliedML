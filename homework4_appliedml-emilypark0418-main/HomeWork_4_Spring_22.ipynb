{
 "cells": [
  {
   "cell_type": "markdown",
   "metadata": {},
   "source": [
    "# Homework 4 Spring 2022\n",
    "\n",
    "Due 04/18 23:59 \n",
    "\n",
    "### Your name: Chaewon Park\n",
    "\n",
    "### Your UNI: cp3227"
   ]
  },
  {
   "cell_type": "code",
   "execution_count": 1,
   "metadata": {
    "id": "6RUMgcOrEZ59"
   },
   "outputs": [],
   "source": [
    "import numpy as np\n",
    "import matplotlib.pyplot as plt\n",
    "\n",
    "import pprint \n",
    "pp = pprint.PrettyPrinter(indent=4)\n"
   ]
  },
  {
   "cell_type": "markdown",
   "metadata": {
    "id": "MLyzP045i-Ku"
   },
   "source": [
    "# Part 1: Feed forward network from scratch!\n",
    "\n",
    "For this part, you are not allowed to use any library other than numpy. \n",
    "\n",
    "In this part, you will will implement the forward pass and backward pass (i.e. the derivates of each parameter wrt to the loss) for the following neural network:"
   ]
  },
  {
   "cell_type": "markdown",
   "metadata": {
    "id": "u8mMTj7_lUoG"
   },
   "source": [
    "<img src=\"images/nn.png\" width=400 height=400/>"
   ]
  },
  {
   "cell_type": "markdown",
   "metadata": {
    "id": "c3DMI2pQk2Sg"
   },
   "source": [
    "The weight matrix for the hidden layer is W1 and has bias b1. \n",
    "\n",
    "The weight matrix for the ouput layer is W2 and has bias b2.\n",
    "\n",
    "Activatation function is **sigmoid** for both hidden and output layer\n",
    "\n",
    "Loss function is the MSE loss $$L(y,y_t) = \\frac{1}{2N}\\sum_{n=1}^{N}(y^n - y_{t}^{n})^2$$\n",
    "\n",
    "Refer to the below dictionary for dimensions for each matrix"
   ]
  },
  {
   "cell_type": "code",
   "execution_count": 2,
   "metadata": {
    "id": "7jnXoH9hi8hm"
   },
   "outputs": [],
   "source": [
    "np.random.seed(0) # don't change this\n",
    "\n",
    "weights = {\n",
    "    'W1': np.random.randn(3, 2),\n",
    "    'b1': np.zeros(3),\n",
    "    'W2': np.random.randn(3),\n",
    "    'b2': 0,\n",
    "}\n",
    "X = np.random.rand(1000,2)\n",
    "Y = np.random.randint(low=0, high=2, size=(1000,))"
   ]
  },
  {
   "cell_type": "code",
   "execution_count": 3,
   "metadata": {
    "id": "zucQT5qfjqF2"
   },
   "outputs": [],
   "source": [
    "def sigmoid(z):\n",
    "    return 1/(1 + np.exp(-z))"
   ]
  },
  {
   "cell_type": "code",
   "execution_count": 4,
   "metadata": {
    "id": "sqGpgzABjr-c"
   },
   "outputs": [],
   "source": [
    "#Implement the forward pass\n",
    "def forward_propagation(X, weights):\n",
    "    # Z1 -> output of the hidden layer before applying activation\n",
    "    # H -> output of the  hidden layer after applying activation\n",
    "    # Z2 -> output of the final layer before applying activation\n",
    "    # Y -> output of the final layer after applying activation\n",
    "    \n",
    "    Z1 = np.dot(X, weights['W1'].T)  + weights['b1']\n",
    "    H = sigmoid(Z1)\n",
    "    \n",
    "    Z2 = np.dot(H, weights['W2'].T)  + weights['b2']\n",
    "    Y = sigmoid(Z2)\n",
    "\n",
    "    return Y, Z2, H, Z1"
   ]
  },
  {
   "cell_type": "code",
   "execution_count": 5,
   "metadata": {
    "id": "yktnD9hdjuQK"
   },
   "outputs": [],
   "source": [
    "# Implement the backward pass\n",
    "# Y_T are the ground truth labels\n",
    "def back_propagation(X, Y_T, weights):\n",
    "    N_points = X.shape[0]\n",
    "\n",
    "    # forward propagation\n",
    "    Y, Z2, H, Z1 = forward_propagation(X, weights)\n",
    "    L = (1/(2*N_points)) * np.sum(np.square(Y - Y_T))\n",
    "    \n",
    "    # back propagation\n",
    "    dLdY = 1/N_points * (Y - Y_T)\n",
    "    dLdZ2 = np.multiply(dLdY, (sigmoid(Z2)*(1-sigmoid(Z2))))\n",
    "    dLdW2 = np.dot(H.T, dLdZ2)\n",
    "    \n",
    "    ## dLdb2 = dLdZ2 * dZ2db2\n",
    "    ## scalar = (1,1000) @ (1000, 1)\n",
    "    dLdb2 = dLdZ2.T @ np.ones((N_points))\n",
    "    \n",
    "    ## dLdH = dLdZ2 * dZ2dH\n",
    "    ## (1000, 3) = (1000,1) @ (1, 3)\n",
    "    dLdH = dLdZ2.reshape(N_points, 1) @ np.expand_dims(weights['W2'], axis=0)\n",
    "    \n",
    "    ## dLdZ1 = dLdH * dHdZ1\n",
    "    dLdZ1 = dLdH * sigmoid(Z1) * (1-sigmoid(Z1))\n",
    "    \n",
    "    ## dLdW1 = dLdZ1 * dZ1dW1\n",
    "    ## (3,2) = (3, 1000) @ (1000, 2)\n",
    "    dLdW1 = dLdZ1.T @ X\n",
    "    \n",
    "    ## dLdb1 = dLdZ1 * dZ1db1\n",
    "    ## (3,) = (3,1000) @ (1000, 1)\n",
    "    dLdb1 = dLdZ1.T @ np.ones(N_points)\n",
    "    \n",
    "    gradients = {\n",
    "        'W1': dLdW1,\n",
    "        'b1': dLdb1,\n",
    "        'W2': dLdW2,\n",
    "        'b2': dLdb2,\n",
    "    }\n",
    "    \n",
    "    return gradients, L"
   ]
  },
  {
   "cell_type": "code",
   "execution_count": 6,
   "metadata": {
    "id": "6Qn7llJqkaQ3"
   },
   "outputs": [
    {
     "name": "stdout",
     "output_type": "stream",
     "text": [
      "0.1332476222330792\n"
     ]
    }
   ],
   "source": [
    "gradients, L = back_propagation(X, Y, weights)\n",
    "print(L)"
   ]
  },
  {
   "cell_type": "code",
   "execution_count": 7,
   "metadata": {
    "id": "rJqTXS3vkPau",
    "scrolled": true
   },
   "outputs": [
    {
     "name": "stdout",
     "output_type": "stream",
     "text": [
      "{   'W1': array([[ 0.00244596,  0.00262019],\n",
      "       [-0.00030765, -0.00024188],\n",
      "       [-0.00034768, -0.000372  ]]),\n",
      "    'W2': array([0.02216011, 0.02433097, 0.01797174]),\n",
      "    'b1': array([ 0.00492577, -0.00058023, -0.00065977]),\n",
      "    'b2': 0.029249230265318688}\n"
     ]
    }
   ],
   "source": [
    "pp.pprint(gradients)"
   ]
  },
  {
   "cell_type": "markdown",
   "metadata": {
    "id": "3RA-fqkHxUAq"
   },
   "source": [
    "Your answers should be close to L = 0.133 and \n",
    "'b1': array([ 0.00492, -0.000581, -0.00066]). You will be graded based on your implementation and outputs for L, W1, W2 b1, and b2"
   ]
  },
  {
   "cell_type": "markdown",
   "metadata": {
    "id": "JcNqb65Kl5pj"
   },
   "source": [
    "You can use any library for the following questions."
   ]
  },
  {
   "cell_type": "markdown",
   "metadata": {
    "id": "zxCCr2YbwvT6"
   },
   "source": [
    "# Part 2: Fashion MNIST dataset\n",
    "The Fashion-MNIST dataset is a dataset of Zalando's article images—consisting of a training set of 60,000 examples and a test set of 10,000 examples. Each example is a 28x28 grayscale image, associated with a label from 10 classes. It's commonly used as a direct drop-in replacement for the original MNIST dataset for benchmarking machine learning models. You can read more about the dataset at the [Fashion-MNIST homepage](https://github.com/zalandoresearch/fashion-mnist). \n",
    "\n",
    "We will utilize tensorflow to import the dataset, however, feel free to use any framework (TF/PyTorch) to answer the assignment questions."
   ]
  },
  {
   "cell_type": "code",
   "execution_count": 8,
   "metadata": {
    "id": "E4UtOqH3xDOK"
   },
   "outputs": [],
   "source": [
    "from tensorflow.keras.datasets import fashion_mnist\n",
    "\n",
    "# load data\n",
    "(xdev, ydev), (xtest, ytest) = fashion_mnist.load_data()"
   ]
  },
  {
   "cell_type": "markdown",
   "metadata": {
    "id": "kN188_290lhx"
   },
   "source": [
    "### 2.1 Plot the first 25 samples from both development and test sets on two separate 5$\\times $5 subplots. \n",
    "\n",
    "Each image in your subplot should be labelled with the ground truth label. Get rid of the plot axes for a nicer presentation. You should also label your plots to indicate if the plotted data is from development or test set. You are given the expected output for development samples."
   ]
  },
  {
   "cell_type": "code",
   "execution_count": 9,
   "metadata": {},
   "outputs": [
    {
     "data": {
      "image/png": "[encoded data removed]",
      "text/plain": [
       "<Figure size 900x900 with 25 Axes>"
      ]
     },
     "metadata": {
      "needs_background": "light"
     },
     "output_type": "display_data"
    }
   ],
   "source": [
    "# specify the number of rows and columns you want to see\n",
    "num_row = 5\n",
    "num_col = 5\n",
    "\n",
    "# get a segment of the dataset\n",
    "num = num_row*num_col\n",
    "images = xdev[:num]\n",
    "labels = ydev[:num]\n",
    "\n",
    "# plot images\n",
    "fig, axes = plt.subplots(num_row, num_col, figsize=(2.5*num_col, 2.5*num_row))\n",
    "\n",
    "    \n",
    "for i in range(num_row*num_col):\n",
    "    ax = axes[i//num_col, i%num_col]\n",
    "    ax.imshow(images[i])\n",
    "    ax.set_title(\"Dev, GT label: \"+  str(labels[i]))\n",
    "    ax.axes.xaxis.set_visible(False)\n",
    "    ax.axes.yaxis.set_visible(False)\n",
    "    \n",
    "fig.suptitle('Dev Sample Plot', fontsize=25)\n",
    "\n",
    "plt.show()"
   ]
  },
  {
   "cell_type": "code",
   "execution_count": 10,
   "metadata": {
    "id": "UD1A58W628Kg"
   },
   "outputs": [
    {
     "data": {
      "image/png": "[encoded data removed]",
      "text/plain": [
       "<Figure size 900x900 with 25 Axes>"
      ]
     },
     "metadata": {
      "needs_background": "light"
     },
     "output_type": "display_data"
    }
   ],
   "source": [
    "# Plot test samples\n",
    "\n",
    "# specify the number of rows and columns you want to see\n",
    "num_row = 5\n",
    "num_col = 5\n",
    "\n",
    "# get a segment of the dataset\n",
    "num = num_row*num_col\n",
    "images = xtest[:num]\n",
    "labels = ytest[:num]\n",
    "\n",
    "# plot images\n",
    "fig, axes = plt.subplots(num_row, num_col, figsize=(2.5*num_col, 2.5*num_row))\n",
    "\n",
    "for i in range(num_row*num_col):\n",
    "    ax = axes[i//num_col, i%num_col]\n",
    "    ax.imshow(images[i])\n",
    "    ax.set_title(\"Test, GT label: \"+  str(labels[i]))\n",
    "    ax.axes.xaxis.set_visible(False)\n",
    "    ax.axes.yaxis.set_visible(False)\n",
    "fig.suptitle('Test Sample Plot', fontsize=25)\n",
    "plt.show()"
   ]
  },
  {
   "cell_type": "markdown",
   "metadata": {
    "id": "nBQ8puVWwZVE"
   },
   "source": [
    "# Part 3: Feed Forward Network\n",
    "\n",
    "In this part of the homework, we will build and train a deep neural network on the Fashion-MNIST dataset."
   ]
  },
  {
   "cell_type": "markdown",
   "metadata": {
    "id": "ivlEpLr63xj7"
   },
   "source": [
    "### 3.1.1 Print their shapes - $x_\\text{dev}, y_{\\text{dev}}, x_\\text{test}, y_\\text{test}$"
   ]
  },
  {
   "cell_type": "code",
   "execution_count": 11,
   "metadata": {
    "id": "E0l_Elm53xPI"
   },
   "outputs": [
    {
     "name": "stdout",
     "output_type": "stream",
     "text": [
      "xdev shape: (60000, 28, 28)\n",
      "ydev shape: (60000,)\n",
      "xtest shape: (10000, 28, 28)\n",
      "ytest shape: (10000,)\n"
     ]
    }
   ],
   "source": [
    "# Print\n",
    "print(\"xdev shape:\", xdev.shape)\n",
    "print(\"ydev shape:\",ydev.shape)\n",
    "print(\"xtest shape:\",xtest.shape)\n",
    "print(\"ytest shape:\",ytest.shape)"
   ]
  },
  {
   "cell_type": "markdown",
   "metadata": {
    "id": "JYP2M-574eAc"
   },
   "source": [
    "### 3.1.2 Flatten the images into one-dimensional vectors. Again, print out the shapes of $x_\\text{dev}, x_\\text{test}$"
   ]
  },
  {
   "cell_type": "code",
   "execution_count": 12,
   "metadata": {
    "id": "NKkWTCW84c_d"
   },
   "outputs": [
    {
     "name": "stdout",
     "output_type": "stream",
     "text": [
      "xdev shape: (60000, 784)\n",
      "xtest shape: (10000, 784)\n"
     ]
    }
   ],
   "source": [
    "# Flatten and print\n",
    "xdev_batch_size = xdev.shape[0]\n",
    "xdev_flat = xdev.reshape(xdev_batch_size, -1)\n",
    "\n",
    "xtest_batch_size = xtest.shape[0]\n",
    "xtest_flat = xtest.reshape(xtest_batch_size, -1)\n",
    "print(\"xdev shape:\", xdev_flat.shape)\n",
    "print(\"xtest shape:\", xtest_flat.shape)"
   ]
  },
  {
   "cell_type": "markdown",
   "metadata": {
    "id": "CjRQ9dmVFFwD"
   },
   "source": [
    "### 3.1.3 Standardize the development and test sets. \n",
    "\n",
    "Note that the images are 28x28 numpy arrays, and each pixel takes value from 0 to 255.0. 0 means background (white), 255 means foreground (black)."
   ]
  },
  {
   "cell_type": "code",
   "execution_count": 13,
   "metadata": {
    "id": "T_MvmH9EEzTo"
   },
   "outputs": [],
   "source": [
    "# Standardize\n",
    "xdev_flat_st = xdev_flat/255.0\n",
    "xtest_st = xtest_flat/255.0"
   ]
  },
  {
   "cell_type": "markdown",
   "metadata": {
    "id": "STHFapUETJqG"
   },
   "source": [
    "### 3.1.4 Assume your neural network has softmax activation as the last layer activation. Would you consider encoding your target variable? Which encoding would you choose and why? The answer depends on your choice of loss function too, you might want to read 2.2.1 and 2.2.5 before answering this one!\n",
    "\n",
    "Encode the target variable else provide justification for not doing so. Supporting answer may contain your choice of loss function.\n"
   ]
  },
  {
   "cell_type": "markdown",
   "metadata": {
    "id": "FmCFYGBcS6F2"
   },
   "source": [
    "**Answer**: First of all, we don't need to do encoding if we use PyTorch because when we use the Dataset & Dataloader function, it automatically maps the classes as the labels. Furthermore, the purpose of encoding is to map 'categorical data' into 'numerical data'. However, since we use softmax activation, the output of the last layer is going to be the numerical probability of each class. Hence, we don't need to apply additional encoding as we will use the target label to index into the output probability vector to calculate the loss. \n",
    "\n",
    "That is, since this is a multi-classification problem, it is most reasonable to use CrossEntropyLoss function. The CrossEntropyLoss function takes in two parameters as follows: input of size (N,C) where N is size of batch and C is number of classes, and target of size (N) where N is size of batch and each element is an integer value between 0~ (C-1). Such parameters don't require additional encoding."
   ]
  },
  {
   "cell_type": "markdown",
   "metadata": {
    "id": "Q0S7IOStZKiV"
   },
   "source": [
    "### 3.1.5 Train-test split your development set into train and validation sets (8:2 ratio). \n",
    "\n",
    "Note that splitting after encoding does not causes data leakage here because we know all the classes beforehand."
   ]
  },
  {
   "cell_type": "code",
   "execution_count": 14,
   "metadata": {
    "id": "lqRShUA_Nl6R"
   },
   "outputs": [],
   "source": [
    "# split\n",
    "from sklearn.model_selection import train_test_split\n",
    "\n",
    "xtrain_st, xval_st, ytrain, yval = train_test_split(xdev_flat_st, ydev, test_size=0.2, random_state= 418)"
   ]
  },
  {
   "cell_type": "markdown",
   "metadata": {
    "id": "ZM2LtnSB9Tbp"
   },
   "source": [
    "### 3.2.1 Build the feed forward network\n",
    "\n",
    "Using Softmax activation for the last layer and ReLU activation for every other layer, build the following model:\n",
    "\n",
    "1. First hidden layer size - 128\n",
    "2. Second hidden layer size - 64\n",
    "3. Third and last layer size - You should know this\n",
    "\n"
   ]
  },
  {
   "cell_type": "code",
   "execution_count": 15,
   "metadata": {
    "id": "EYiUlVOO9-Le"
   },
   "outputs": [],
   "source": [
    "# build model\n",
    "import cv2\n",
    "import torch\n",
    "import torchvision\n",
    "import torchvision.transforms as transforms\n",
    "from torch.utils.data import DataLoader\n",
    "import torchvision.models as models\n",
    "import matplotlib.pyplot as plt\n",
    "import numpy as np\n",
    "\n",
    "import torch.nn as nn\n",
    "import torch.nn.functional as F\n",
    "import torch.optim as optim\n",
    "from torch.utils.data import random_split\n",
    "\n",
    "import math\n",
    "import os\n",
    "import argparse\n",
    "\n",
    "\n",
    "class FeedforwardNeuralNetModel(nn.Module):\n",
    "    def __init__(self, input_dim=28*28):\n",
    "        super(FeedforwardNeuralNetModel, self).__init__()\n",
    "        \n",
    "        # Linear function\n",
    "        self.fc1 = nn.Linear(input_dim, 128) \n",
    "        self.fc2 = nn.Linear(128, 64)  \n",
    "        self.fc3 = nn.Linear(64, 10)\n",
    "        \n",
    "        # Non-linearity\n",
    "        self.relu = nn.ReLU()\n",
    "        # I removed softmax layer because there is already softmax incorporated in the PyTorch CrossEntropyLoss function\n",
    "        # TA confirmed that if softmax is already incorporated in the loss function, I should remove softmax layer\n",
    "        # since we don't want to apply softmax redundantly\n",
    "\n",
    "    def forward(self, x):\n",
    "        # Linear function  # LINEAR\n",
    "        x = self.fc1(x)\n",
    "        x = self.relu(x)\n",
    "        \n",
    "        x = self.fc2(x)\n",
    "        x = self.relu(x)\n",
    "        \n",
    "        out = self.fc3(x)\n",
    "\n",
    "        return out"
   ]
  },
  {
   "cell_type": "markdown",
   "metadata": {
    "id": "emsQ8cqg_T0Z"
   },
   "source": [
    "### 3.2.2 Print out the model summary"
   ]
  },
  {
   "cell_type": "code",
   "execution_count": 40,
   "metadata": {},
   "outputs": [],
   "source": [
    "#!pip install torchsummary"
   ]
  },
  {
   "cell_type": "code",
   "execution_count": 16,
   "metadata": {
    "id": "pK3ZyFtx_YV_"
   },
   "outputs": [
    {
     "name": "stdout",
     "output_type": "stream",
     "text": [
      "torch.Size([784])\n",
      "FeedforwardNeuralNetModel(\n",
      "  (fc1): Linear(in_features=784, out_features=128, bias=True)\n",
      "  (fc2): Linear(in_features=128, out_features=64, bias=True)\n",
      "  (fc3): Linear(in_features=64, out_features=10, bias=True)\n",
      "  (relu): ReLU()\n",
      ")\n",
      "----------------------------------------------------------------\n",
      "        Layer (type)               Output Shape         Param #\n",
      "================================================================\n",
      "            Linear-1               [-1, 1, 128]         100,480\n",
      "              ReLU-2               [-1, 1, 128]               0\n",
      "            Linear-3                [-1, 1, 64]           8,256\n",
      "              ReLU-4                [-1, 1, 64]               0\n",
      "            Linear-5                [-1, 1, 10]             650\n",
      "================================================================\n",
      "Total params: 109,386\n",
      "Trainable params: 109,386\n",
      "Non-trainable params: 0\n",
      "----------------------------------------------------------------\n",
      "Input size (MB): 0.00\n",
      "Forward/backward pass size (MB): 0.00\n",
      "Params size (MB): 0.42\n",
      "Estimated Total Size (MB): 0.42\n",
      "----------------------------------------------------------------\n"
     ]
    }
   ],
   "source": [
    "# print summary\n",
    "from torchvision import models\n",
    "from torchsummary import summary\n",
    "\n",
    "first_input = torch.from_numpy(xtrain_st[0, :]).double()\n",
    "print(first_input.size())\n",
    "\n",
    "model = FeedforwardNeuralNetModel()\n",
    "print(model)\n",
    "\n",
    "summary(model, input_size=(1, 28*28))"
   ]
  },
  {
   "cell_type": "markdown",
   "metadata": {
    "id": "g56pm1P4_ZiD"
   },
   "source": [
    "### 3.2.3 Report the total number of trainable parameters. Do you think this number is dependent on the image height and width? Only Yes/No required. "
   ]
  },
  {
   "cell_type": "markdown",
   "metadata": {
    "id": "nzJ-dthb_qkR"
   },
   "source": [
    "**Answer**: Trainable params: 109,386. Yes it is dependent on the image height and width."
   ]
  },
  {
   "cell_type": "markdown",
   "metadata": {
    "id": "_ebQPIt4Ag7K"
   },
   "source": [
    "### 3.2.4 Print out your model's output on first train sample. This will confirm if your dimensions are correctly set up. Is the sum of this output equal to 1 upto two decimal places?"
   ]
  },
  {
   "cell_type": "code",
   "execution_count": 20,
   "metadata": {
    "id": "Rmr3ilqHAfin"
   },
   "outputs": [
    {
     "name": "stdout",
     "output_type": "stream",
     "text": [
      "Raw output on First Train Sample: tensor([-0.0138, -0.1014,  0.0719,  0.1079,  0.0757,  0.0741,  0.0844, -0.0522,\n",
      "        -0.0266,  0.0091], dtype=torch.float64)\n",
      "Softmax applied output: tensor([0.0962, 0.0881, 0.1048, 0.1086, 0.1052, 0.1050, 0.1061, 0.0926, 0.0950,\n",
      "        0.0984], dtype=torch.float64)\n",
      "Sum of output: tensor(1., dtype=torch.float64)\n"
     ]
    },
    {
     "name": "stderr",
     "output_type": "stream",
     "text": [
      "C:\\Users\\cwp94\\AppData\\Local\\Temp/ipykernel_45576/1294225972.py:13: UserWarning: Implicit dimension choice for softmax has been deprecated. Change the call to include dim=X as an argument.\n",
      "  softmaxed_output = softmax_func(outputs.data)\n"
     ]
    }
   ],
   "source": [
    "# answer\n",
    "model = model.double()\n",
    "first_input = torch.from_numpy(xtrain_st[0, :]).double()\n",
    "outputs = model(first_input)\n",
    "\n",
    "## this output didn't have softmax applied\n",
    "## because i removed softmax layer from the model because Pytorch's CrossEntropyLoss already has softmax included.\n",
    "print(\"Raw output on First Train Sample:\",outputs.data)\n",
    "\n",
    "\n",
    "## hence, here i will manually apply softmax to show that the sum of the softmax applied output equals to one\n",
    "softmax_func = nn.Softmax()\n",
    "softmaxed_output = softmax_func(outputs.data)\n",
    "\n",
    "print(\"Softmax applied output:\", softmaxed_output)\n",
    "\n",
    "## Comment: Yes, the sum of the output equals to one.\n",
    "print(\"Sum of output:\", sum(softmaxed_output))"
   ]
  },
  {
   "cell_type": "markdown",
   "metadata": {
    "id": "-F7S-Wn4Jzx6"
   },
   "source": [
    "### 3.2.5 Considering the output of your model and overall objective, what loss function would you choose and why? Choose a metric for evaluation and explain the reason behind your choice."
   ]
  },
  {
   "cell_type": "markdown",
   "metadata": {
    "id": "oTC6ySGELkWw"
   },
   "source": [
    "**Answer**: Since the output of the model is a prediction probability for each of the 10 classes, we should use CrossEntropyLoss for this multi-classification problem. Also, since we want to get as many images correctly classified as possible and as the class distribution is equal and unbiased, I'd choose accuracy as the metric for evaluation. "
   ]
  },
  {
   "cell_type": "markdown",
   "metadata": {
    "id": "nh4jhNU3ML8S"
   },
   "source": [
    "### 3.2.6 Using the metric and loss function above, with Adam as the optimizer, train your model for 20 epochs with batch size 128. \n",
    "\n",
    "Make sure to save and print out the values of loss function and metric after each epoch for both train and validation sets.\n",
    "\n",
    "Note - Use appropriate learning rate for the optimizer, you might have to try different values"
   ]
  },
  {
   "cell_type": "code",
   "execution_count": 21,
   "metadata": {},
   "outputs": [],
   "source": [
    "from torch.utils.data import Dataset\n",
    "\n",
    "class CustomDataset(Dataset):\n",
    "    def __init__(self, imgs, labels):\n",
    "        self.data = []\n",
    "        for i in range(len(imgs)):\n",
    "            img = imgs[i]\n",
    "            label = labels[i]\n",
    "            self.data.append([img, label])\n",
    "        \n",
    "    def __len__(self):\n",
    "        return len(self.data)\n",
    "    \n",
    "    def __getitem__(self, idx):\n",
    "        img, label = self.data[idx]\n",
    "        img_tensor = torch.from_numpy(img)\n",
    "        class_id = torch.tensor([label])\n",
    "        return img_tensor, class_id"
   ]
  },
  {
   "cell_type": "code",
   "execution_count": 22,
   "metadata": {},
   "outputs": [],
   "source": [
    "batch_size = 128\n",
    "\n",
    "train_dataset = CustomDataset(xtrain_st, ytrain)\n",
    "val_dataset = CustomDataset(xval_st, yval)\n",
    "\n",
    "train_loader = torch.utils.data.DataLoader(dataset=train_dataset, \n",
    "                                           batch_size=batch_size, \n",
    "                                           shuffle=True)\n",
    "\n",
    "val_loader = torch.utils.data.DataLoader(dataset=val_dataset, \n",
    "                                          batch_size=batch_size, \n",
    "                                          shuffle=False)"
   ]
  },
  {
   "cell_type": "code",
   "execution_count": 23,
   "metadata": {},
   "outputs": [],
   "source": [
    "import errno\n",
    "import os\n",
    "import sys\n",
    "import time\n",
    "import math\n",
    "\n",
    "\n",
    "class AverageMeter(object):\n",
    "    \"\"\"Computes and stores the average and current value\n",
    "       Imported from https://github.com/pytorch/examples/blob/master/imagenet/main.py#L247-L262\n",
    "    \"\"\"\n",
    "    def __init__(self):\n",
    "        self.reset()\n",
    "\n",
    "    def reset(self):\n",
    "        self.val = 0\n",
    "        self.avg = 0\n",
    "        self.sum = 0\n",
    "        self.count = 0\n",
    "\n",
    "    def update(self, val, n=1):\n",
    "        self.val = val\n",
    "        self.sum += val * n\n",
    "        self.count += n\n",
    "        self.avg = self.sum / self.count\n",
    "        \n",
    "\n",
    "def accuracy(output, target, topk=(1,)):\n",
    "    \"\"\"Computes the precision@k for the specified values of k\"\"\"\n",
    "    maxk = max(topk)\n",
    "    batch_size = target.size(0)\n",
    "\n",
    "    _, pred = output.topk(maxk, 1, True, True)\n",
    "    pred = pred.t()\n",
    "    correct = pred.eq(target.view(1, -1).expand_as(pred))\n",
    "\n",
    "    res = []\n",
    "    for k in topk:\n",
    "        correct_k = correct[:k].reshape(-1).float().sum(0)\n",
    "        res.append(correct_k.mul_(100.0 / batch_size))\n",
    "    return res"
   ]
  },
  {
   "cell_type": "code",
   "execution_count": 24,
   "metadata": {
    "id": "UAVaF9bSKc3f"
   },
   "outputs": [
    {
     "name": "stdout",
     "output_type": "stream",
     "text": [
      "Epoch: 0\n",
      "Train_Loss: 0.661. Train_Accuracy: 77.154\n",
      "Val_Loss: 0.484. Val_Accuracy: 82.908\n",
      "\n",
      "Epoch: 1\n",
      "Train_Loss: 0.436. Train_Accuracy: 84.696\n",
      "Val_Loss: 0.432. Val_Accuracy: 84.933\n",
      "\n",
      "Epoch: 2\n",
      "Train_Loss: 0.388. Train_Accuracy: 86.135\n",
      "Val_Loss: 0.381. Val_Accuracy: 86.283\n",
      "\n",
      "Epoch: 3\n",
      "Train_Loss: 0.361. Train_Accuracy: 87.033\n",
      "Val_Loss: 0.366. Val_Accuracy: 86.225\n",
      "\n",
      "Epoch: 4\n",
      "Train_Loss: 0.337. Train_Accuracy: 87.898\n",
      "Val_Loss: 0.388. Val_Accuracy: 85.783\n",
      "\n",
      "Epoch: 5\n",
      "Train_Loss: 0.322. Train_Accuracy: 88.498\n",
      "Val_Loss: 0.351. Val_Accuracy: 87.008\n",
      "\n",
      "Epoch: 6\n",
      "Train_Loss: 0.304. Train_Accuracy: 89.033\n",
      "Val_Loss: 0.340. Val_Accuracy: 87.492\n",
      "\n",
      "Epoch: 7\n",
      "Train_Loss: 0.296. Train_Accuracy: 89.250\n",
      "Val_Loss: 0.339. Val_Accuracy: 87.608\n",
      "\n",
      "Epoch: 8\n",
      "Train_Loss: 0.282. Train_Accuracy: 89.658\n",
      "Val_Loss: 0.328. Val_Accuracy: 88.217\n",
      "\n",
      "Epoch: 9\n",
      "Train_Loss: 0.272. Train_Accuracy: 90.108\n",
      "Val_Loss: 0.318. Val_Accuracy: 88.525\n",
      "\n",
      "Epoch: 10\n",
      "Train_Loss: 0.265. Train_Accuracy: 90.138\n",
      "Val_Loss: 0.335. Val_Accuracy: 87.758\n",
      "\n",
      "Epoch: 11\n",
      "Train_Loss: 0.258. Train_Accuracy: 90.492\n",
      "Val_Loss: 0.310. Val_Accuracy: 88.700\n",
      "\n",
      "Epoch: 12\n",
      "Train_Loss: 0.248. Train_Accuracy: 90.931\n",
      "Val_Loss: 0.327. Val_Accuracy: 88.267\n",
      "\n",
      "Epoch: 13\n",
      "Train_Loss: 0.241. Train_Accuracy: 91.090\n",
      "Val_Loss: 0.314. Val_Accuracy: 88.708\n",
      "\n",
      "Epoch: 14\n",
      "Train_Loss: 0.234. Train_Accuracy: 91.273\n",
      "Val_Loss: 0.324. Val_Accuracy: 88.475\n",
      "\n",
      "Epoch: 15\n",
      "Train_Loss: 0.227. Train_Accuracy: 91.473\n",
      "Val_Loss: 0.309. Val_Accuracy: 88.692\n",
      "\n",
      "Epoch: 16\n",
      "Train_Loss: 0.220. Train_Accuracy: 91.808\n",
      "Val_Loss: 0.319. Val_Accuracy: 88.458\n",
      "\n",
      "Epoch: 17\n",
      "Train_Loss: 0.212. Train_Accuracy: 92.160\n",
      "Val_Loss: 0.329. Val_Accuracy: 88.525\n",
      "\n",
      "Epoch: 18\n",
      "Train_Loss: 0.207. Train_Accuracy: 92.298\n",
      "Val_Loss: 0.324. Val_Accuracy: 88.892\n",
      "\n",
      "Epoch: 19\n",
      "Train_Loss: 0.202. Train_Accuracy: 92.442\n",
      "Val_Loss: 0.317. Val_Accuracy: 88.817\n",
      "\n"
     ]
    }
   ],
   "source": [
    "# hyper-parmas\n",
    "num_epochs = 20\n",
    "criterion = nn.CrossEntropyLoss()\n",
    "learning_rate = 0.001\n",
    "optimizer = torch.optim.Adam(model.parameters(), lr=learning_rate)\n",
    "\n",
    "train_acc_list= []\n",
    "train_loss_list = []\n",
    "val_acc_list= []\n",
    "val_loss_list = []\n",
    "\n",
    "for epoch in range(num_epochs):\n",
    "    ### train\n",
    "    \n",
    "    # log train acc\n",
    "    train_accuracies = AverageMeter()\n",
    "    train_losses = AverageMeter()\n",
    "    \n",
    "    for i, (images, labels) in enumerate(train_loader):\n",
    "        # Load images with gradient accumulation capabilities\n",
    "        images = images.requires_grad_()\n",
    "\n",
    "        # Forward pass to get output/logits\n",
    "        outputs = model(images)\n",
    "\n",
    "        ### Calculate Loss and Acc: softmax --> cross entropy loss\n",
    "        labels = labels.reshape(-1)\n",
    "        loss = criterion(outputs, labels)\n",
    "        acc1, _ = accuracy(outputs.data, labels, topk=(1, 2))\n",
    "    \n",
    "        # update avg meter for loss and acc\n",
    "        train_losses.update(loss.data.item(), images.size(0))\n",
    "        train_accuracies.update(acc1.item(), images.size(0))\n",
    "        \n",
    "\n",
    "        # Clear gradients w.r.t. parameters\n",
    "        optimizer.zero_grad()\n",
    "        \n",
    "        # Getting gradients w.r.t. parameters\n",
    "        loss.backward()\n",
    "\n",
    "        # Updating parameters\n",
    "        optimizer.step()\n",
    "        \n",
    "\n",
    "    train_acc_list.append(train_accuracies.avg)\n",
    "    train_loss_list.append(train_losses.avg)\n",
    "        \n",
    "    # Print Avg Train Loss & Train Acc/epoch\n",
    "    print('Epoch: {}'.format(epoch))\n",
    "    print('Train_Loss: {:.3f}. Train_Accuracy: {:.3f}'.format(train_losses.avg, train_accuracies.avg))\n",
    "\n",
    "    \n",
    "    ### val\n",
    "    \n",
    "    # log val acc\n",
    "    val_accuracies = AverageMeter()\n",
    "    val_losses = AverageMeter() \n",
    "    \n",
    "    model.eval()\n",
    "    with torch.no_grad():\n",
    "        \n",
    "        # Iterate through val dataset\n",
    "        for images, labels in val_loader:\n",
    "            # Load images with gradient accumulation capabilities\n",
    "            images = images.requires_grad_()\n",
    "\n",
    "            # Forward pass only to get logits/output\n",
    "            outputs = model(images)\n",
    "\n",
    "            ### Calculate Loss and Acc: softmax --> cross entropy loss\n",
    "            labels = labels.reshape(-1)\n",
    "            loss = criterion(outputs, labels)\n",
    "            acc1, _ = accuracy(outputs.data, labels, topk=(1, 2))\n",
    "\n",
    "            # update avg meter for loss and acc\n",
    "            val_losses.update(loss.data.item(), images.size(0))\n",
    "            val_accuracies.update(acc1.item(), images.size(0))\n",
    "        \n",
    "\n",
    "    val_acc_list.append(val_accuracies.avg)\n",
    "    val_loss_list.append(val_losses.avg)\n",
    "        \n",
    "    # Print Avg Train Loss & Train Acc/epoch\n",
    "    print('Val_Loss: {:.3f}. Val_Accuracy: {:.3f}'.format(val_losses.avg, val_accuracies.avg))\n",
    "    print()"
   ]
  },
  {
   "cell_type": "markdown",
   "metadata": {
    "id": "Vl04i4Vh55Sh"
   },
   "source": [
    "### 3.2.7 Plot two separate plots displaying train vs validation loss and train vs validation metric scores over each epoch"
   ]
  },
  {
   "cell_type": "code",
   "execution_count": 25,
   "metadata": {
    "id": "eJXTrZ9aQ9dr"
   },
   "outputs": [
    {
     "data": {
      "image/png": "[encoded data removed]",
      "text/plain": [
       "<Figure size 432x288 with 1 Axes>"
      ]
     },
     "metadata": {
      "needs_background": "light"
     },
     "output_type": "display_data"
    }
   ],
   "source": [
    "# plot train vs validation loss\n",
    "\n",
    "plt.plot(range(20), train_loss_list, label = \"Train Loss\")\n",
    "plt.plot(range(20), val_loss_list, label = \"Val Loss\")\n",
    "plt.xticks(range(0,20))\n",
    "plt.xlabel(\"Epoch\")\n",
    "plt.ylabel(\"Loss\")\n",
    "plt.legend()\n",
    "plt.show()"
   ]
  },
  {
   "cell_type": "code",
   "execution_count": 26,
   "metadata": {},
   "outputs": [
    {
     "data": {
      "image/png": "[encoded data removed]",
      "text/plain": [
       "<Figure size 432x288 with 1 Axes>"
      ]
     },
     "metadata": {
      "needs_background": "light"
     },
     "output_type": "display_data"
    }
   ],
   "source": [
    "# plot train vs validation acc\n",
    "\n",
    "plt.plot(range(20), train_acc_list, label = \"Train Acc\")\n",
    "plt.plot(range(20), val_acc_list, label = \"Val Acc\")\n",
    "plt.xticks(range(0,20))\n",
    "plt.xlabel(\"Epoch\")\n",
    "plt.ylabel(\"Acc\")\n",
    "plt.legend()\n",
    "plt.show()"
   ]
  },
  {
   "cell_type": "markdown",
   "metadata": {
    "id": "5DOlSkrYa7FG"
   },
   "source": [
    "### 3.3.1 Report metric score on test set"
   ]
  },
  {
   "cell_type": "code",
   "execution_count": 27,
   "metadata": {
    "id": "3GKDLFxmdixO"
   },
   "outputs": [
    {
     "name": "stdout",
     "output_type": "stream",
     "text": [
      "Test_Loss: 0.350. Test_Accuracy: 88.100\n",
      "\n"
     ]
    }
   ],
   "source": [
    "# evaluate\n",
    "\n",
    "test_dataset = CustomDataset(xtest_st, ytest)\n",
    "\n",
    "test_loader = torch.utils.data.DataLoader(dataset=test_dataset, \n",
    "                                          batch_size=batch_size, \n",
    "                                          shuffle=False)\n",
    "\n",
    "### test\n",
    "test_acc_list= []\n",
    "test_loss_list = []\n",
    "\n",
    "# log test acc\n",
    "test_accuracies = AverageMeter()\n",
    "test_losses = AverageMeter() \n",
    "\n",
    "# save GT and pred labels\n",
    "ypred = []\n",
    "ytrue = []\n",
    "    \n",
    "model.eval()\n",
    "with torch.no_grad():\n",
    "        \n",
    "    # Iterate through val dataset\n",
    "    for images, labels in test_loader:\n",
    "        # Load images with gradient accumulation capabilities\n",
    "        images = images.requires_grad_()\n",
    "        \n",
    "        # Forward pass only to get logits/output\n",
    "        outputs = model(images)\n",
    "\n",
    "        ### Calculate Loss and Acc: softmax --> cross entropy loss\n",
    "        labels = labels.reshape(-1)\n",
    "        loss = criterion(outputs, labels)\n",
    "        acc1, _ = accuracy(outputs.data, labels, topk=(1, 2))\n",
    "\n",
    "        # update avg meter for loss and acc\n",
    "        test_losses.update(loss.data.item(), images.size(0))\n",
    "        test_accuracies.update(acc1.item(), images.size(0))\n",
    "        \n",
    "        # save GT and pred labels\n",
    "        outputs = (torch.max(torch.exp(outputs), 1)[1]).data.cpu().numpy()\n",
    "        ypred.extend(outputs) # Save Prediction\n",
    "        \n",
    "        labels = labels.data.cpu().numpy()\n",
    "        ytrue.extend(labels) # Save Truth\n",
    "        \n",
    "\n",
    "test_acc_list.append(test_accuracies.avg)\n",
    "test_loss_list.append(test_losses.avg)\n",
    "        \n",
    "# Print Avg Train Loss & Train Acc/epoch\n",
    "print('Test_Loss: {:.3f}. Test_Accuracy: {:.3f}'.format(test_losses.avg, test_accuracies.avg))\n",
    "print()"
   ]
  },
  {
   "cell_type": "markdown",
   "metadata": {
    "id": "5sIFEgENbk-f"
   },
   "source": [
    "### 3.3.2 Plot confusion matrix on the test set and label the axes appropriately with true and predicted labels. \n",
    "\n",
    "Labels on the axes should be the original classes (0-9) and not one-hot-encoded. To achieve this, you might have to reverse transform your model's predictions. Please look into the documentation of your target encoder. Sample output is provided"
   ]
  },
  {
   "cell_type": "code",
   "execution_count": 28,
   "metadata": {
    "id": "mamqU2la5TjG"
   },
   "outputs": [
    {
     "data": {
      "text/plain": [
       "<AxesSubplot:>"
      ]
     },
     "execution_count": 28,
     "metadata": {},
     "output_type": "execute_result"
    },
    {
     "data": {
      "image/png": "[encoded data removed]",
      "text/plain": [
       "<Figure size 864x504 with 2 Axes>"
      ]
     },
     "metadata": {
      "needs_background": "light"
     },
     "output_type": "display_data"
    }
   ],
   "source": [
    "# confusion matrix\n",
    "# constant for classes\n",
    "classes = (range(0,10))\n",
    "\n",
    "from sklearn.metrics import confusion_matrix\n",
    "import seaborn as sn\n",
    "import pandas as pd\n",
    "\n",
    "\n",
    "# Build confusion matrix\n",
    "cf_matrix = confusion_matrix(ytrue, ypred)\n",
    "df_cm = pd.DataFrame(cf_matrix, index = [i for i in classes],\n",
    "                     columns = [i for i in classes])\n",
    "\n",
    "plt.figure(figsize = (12,7))\n",
    "sn.heatmap(df_cm, annot=True, fmt='g')"
   ]
  },
  {
   "cell_type": "markdown",
   "metadata": {
    "id": "nm_emLncm45v"
   },
   "source": [
    "### 3.3.3 Plot the first 25 samples of test dataset on a 5$\\times $5 subplot and this time label the images with both the ground truth (GT) and predicted class (P). \n",
    "\n",
    "For instance, an image of class 3, with predicted class 7 should have the label GT:3, P:7. Get rid of the plot axes for a nicer presentation."
   ]
  },
  {
   "cell_type": "code",
   "execution_count": 29,
   "metadata": {
    "id": "jgdmSdTYm4Ms"
   },
   "outputs": [
    {
     "data": {
      "image/png": "[encoded data removed]",
      "text/plain": [
       "<Figure size 900x900 with 25 Axes>"
      ]
     },
     "metadata": {
      "needs_background": "light"
     },
     "output_type": "display_data"
    }
   ],
   "source": [
    "# Plot test samples\n",
    "\n",
    "# specify the number of rows and columns you want to see\n",
    "num_row = 5\n",
    "num_col = 5\n",
    "\n",
    "# get a segment of the dataset\n",
    "num = num_row*num_col\n",
    "images = xtest[:num]\n",
    "labels = ytest[:num]\n",
    "preds = ypred[:num]\n",
    "\n",
    "# plot images\n",
    "fig, axes = plt.subplots(num_row, num_col, figsize=(2.5*num_col, 2.5*num_row))\n",
    "\n",
    "for i in range(num_row*num_col):\n",
    "    ax = axes[i//num_col, i%num_col]\n",
    "    ax.imshow(images[i])\n",
    "    ax.set_title('GT:{}. P:{}'.format(labels[i], preds[i]))\n",
    "    ax.axes.xaxis.set_visible(False)\n",
    "    ax.axes.yaxis.set_visible(False)\n",
    "fig.suptitle('Test Sample Plot', fontsize=25)\n",
    "plt.show()"
   ]
  },
  {
   "cell_type": "markdown",
   "metadata": {
    "id": "nIoh03GF0MAA"
   },
   "source": [
    "# Part 4: Convolutional Neural Network\n",
    "\n",
    "In this part of the homework, we will build and train a classical convolutional neural network, LeNet-5, on the Fashion-MNIST dataset. "
   ]
  },
  {
   "cell_type": "code",
   "execution_count": 30,
   "metadata": {
    "id": "H9F9wiJ9zo4c"
   },
   "outputs": [],
   "source": [
    "from tensorflow.keras.datasets import fashion_mnist\n",
    "\n",
    "# load data again\n",
    "(xdev, ydev), (xtest, ytest) = fashion_mnist.load_data()"
   ]
  },
  {
   "cell_type": "markdown",
   "metadata": {
    "id": "K659tg291CBr"
   },
   "source": [
    "### 4.1 Preprocess\n",
    "\n",
    "1. Standardize the datasets\n",
    "\n",
    "2. Encode the target variable.\n",
    "\n",
    "3. Split development set to train and validation sets (8:2)."
   ]
  },
  {
   "cell_type": "code",
   "execution_count": 31,
   "metadata": {
    "id": "GQRtCiQt1qXG"
   },
   "outputs": [],
   "source": [
    "# TODO: Standardize the datasets\n",
    "xdev_st = xdev/255.0\n",
    "xtest_st = xtest/255.0\n",
    "\n",
    "# TODO: Encode the target labels\n",
    "## Don't need to do this part since we are using pytorch\n",
    "\n",
    "# Split\n",
    "# split\n",
    "xtrain_st, xval_st, ytrain, yval = train_test_split(xdev_st, ydev, test_size=0.2, random_state= 418)"
   ]
  },
  {
   "cell_type": "markdown",
   "metadata": {
    "id": "EOyLBF5V1qoq"
   },
   "source": [
    "### 4.2.1 LeNet-5\n",
    "\n",
    "We will be implementing the one of the first CNN models put forward by Yann LeCunn, which is commonly refered to as LeNet-5. The network has the following layers:\n",
    "\n",
    "1. 2D convolutional layer with 6 filters, 5x5 kernel, stride of 1  padded to yield the same size as input, ReLU activation\n",
    "2. Maxpooling layer of 2x2\n",
    "3. 2D convolutional layer with 16 filters, 5x5 kernel, 0 padding, ReLU activation \n",
    "4. Maxpooling layer of 2x2 \n",
    "5. 2D convolutional layer with 120 filters, 5x5 kernel, ReLU activation. Note that this layer has 120 output channels (filters), and each channel has only 1 number. The output of this layer is just a vector with 120 units!\n",
    "6. A fully connected layer with 84 units, ReLU activation\n",
    "7. The output layer where each unit respresents the probability of image being in that category. What activation function should you use in this layer? (You should know this)"
   ]
  },
  {
   "cell_type": "code",
   "execution_count": 32,
   "metadata": {
    "id": "ZTprg3Uj1-RS"
   },
   "outputs": [],
   "source": [
    "# TODO: build the model\n",
    "\n",
    "# build model\n",
    "import cv2\n",
    "import torch\n",
    "import torchvision\n",
    "import torchvision.transforms as transforms\n",
    "from torch.utils.data import DataLoader\n",
    "import torchvision.models as models\n",
    "import matplotlib.pyplot as plt\n",
    "import numpy as np\n",
    "\n",
    "import torch.nn as nn\n",
    "import torch.nn.functional as F\n",
    "import torch.optim as optim\n",
    "from torch.utils.data import random_split\n",
    "\n",
    "import math\n",
    "import os\n",
    "import argparse\n",
    "\n",
    "class BasicNet(nn.Module):\n",
    "\n",
    "    def __init__(self):\n",
    "        super().__init__()\n",
    "\n",
    "        self.conv_model = nn.Sequential(\n",
    "                      #1\n",
    "                      nn.Conv2d(1, 6, kernel_size=5, stride=1, padding= 2, bias=True),\n",
    "                      nn.ReLU(inplace=True),\n",
    "                      nn.MaxPool2d(2, stride=2),\n",
    "            \n",
    "                      #2\n",
    "                      nn.Conv2d(6, 16, kernel_size=5, stride= 1, padding =0, bias=True),\n",
    "                      nn.ReLU(inplace=True),\n",
    "                      nn.MaxPool2d(2, stride=2),\n",
    "                      \n",
    "                      #3\n",
    "                      nn.Conv2d(16, 120, kernel_size=5, stride= 1, padding =0, bias=True),\n",
    "                      nn.ReLU(inplace=True),\n",
    "            \n",
    "\n",
    "            )\n",
    "        \n",
    "        self.fc = nn.Sequential(\n",
    "                      #4 FC\n",
    "                      nn.Linear(120, 84, bias=True),\n",
    "                      nn.ReLU(inplace=True),\n",
    "            \n",
    "                      # FC\n",
    "                      nn.Linear(84, 10, bias=True)\n",
    "            \n",
    "                      # removing softmax because CrossEntropyLoss already has softmax incorporated\n",
    "                      # we do not want to apply softmax redundantly\n",
    "            )\n",
    "        \n",
    "\n",
    "        \n",
    "        \n",
    "    def forward(self, x):\n",
    "\n",
    "        #call the conv layers\n",
    "        x = self.conv_model(x)\n",
    "        x = x.reshape(x.size(0), -1)\n",
    "        x = self.fc(x)\n",
    "        \n",
    "        return x"
   ]
  },
  {
   "cell_type": "markdown",
   "metadata": {
    "id": "BqT9HSJS1-_E"
   },
   "source": [
    "### 4.2.2 Report layer output\n",
    "\n",
    "Report the output dimensions of each layers of LeNet-5. **Hint:** You can report them using the model summary function that most frameworks have, or you can calculate and report the output dimensions by hand (It's actually not that hard and it's a good practice too!)"
   ]
  },
  {
   "cell_type": "code",
   "execution_count": 33,
   "metadata": {
    "id": "nW0-T-E10EnR"
   },
   "outputs": [
    {
     "name": "stdout",
     "output_type": "stream",
     "text": [
      "BasicNet(\n",
      "  (conv_model): Sequential(\n",
      "    (0): Conv2d(1, 6, kernel_size=(5, 5), stride=(1, 1), padding=(2, 2))\n",
      "    (1): ReLU(inplace=True)\n",
      "    (2): MaxPool2d(kernel_size=2, stride=2, padding=0, dilation=1, ceil_mode=False)\n",
      "    (3): Conv2d(6, 16, kernel_size=(5, 5), stride=(1, 1))\n",
      "    (4): ReLU(inplace=True)\n",
      "    (5): MaxPool2d(kernel_size=2, stride=2, padding=0, dilation=1, ceil_mode=False)\n",
      "    (6): Conv2d(16, 120, kernel_size=(5, 5), stride=(1, 1))\n",
      "    (7): ReLU(inplace=True)\n",
      "  )\n",
      "  (fc): Sequential(\n",
      "    (0): Linear(in_features=120, out_features=84, bias=True)\n",
      "    (1): ReLU(inplace=True)\n",
      "    (2): Linear(in_features=84, out_features=10, bias=True)\n",
      "  )\n",
      ")\n",
      "----------------------------------------------------------------\n",
      "        Layer (type)               Output Shape         Param #\n",
      "================================================================\n",
      "            Conv2d-1            [-1, 6, 28, 28]             156\n",
      "              ReLU-2            [-1, 6, 28, 28]               0\n",
      "         MaxPool2d-3            [-1, 6, 14, 14]               0\n",
      "            Conv2d-4           [-1, 16, 10, 10]           2,416\n",
      "              ReLU-5           [-1, 16, 10, 10]               0\n",
      "         MaxPool2d-6             [-1, 16, 5, 5]               0\n",
      "            Conv2d-7            [-1, 120, 1, 1]          48,120\n",
      "              ReLU-8            [-1, 120, 1, 1]               0\n",
      "            Linear-9                   [-1, 84]          10,164\n",
      "             ReLU-10                   [-1, 84]               0\n",
      "           Linear-11                   [-1, 10]             850\n",
      "================================================================\n",
      "Total params: 61,706\n",
      "Trainable params: 61,706\n",
      "Non-trainable params: 0\n",
      "----------------------------------------------------------------\n",
      "Input size (MB): 0.00\n",
      "Forward/backward pass size (MB): 0.11\n",
      "Params size (MB): 0.24\n",
      "Estimated Total Size (MB): 0.35\n",
      "----------------------------------------------------------------\n"
     ]
    }
   ],
   "source": [
    "# TODO: report model output dimensions\n",
    "# print summary\n",
    "from torchvision import models\n",
    "from torchsummary import summary\n",
    "\n",
    "model = BasicNet()\n",
    "print(model)\n",
    "\n",
    "summary(model, (1, 28, 28))"
   ]
  },
  {
   "cell_type": "markdown",
   "metadata": {
    "id": "x9pIfNN32Uwn"
   },
   "source": [
    "### 4.2.3 Model training\n",
    "\n",
    "Train the model for 10 epochs. In each epoch, record the loss and metric (chosen in part 3) scores for both train and validation sets. Use two separate plots to display train vs validation metric scores and train vs validation loss. Finally, report the model performance on the test set. Feel free to tune the hyperparameters such as batch size and optimizers to achieve better performance."
   ]
  },
  {
   "cell_type": "code",
   "execution_count": 34,
   "metadata": {},
   "outputs": [],
   "source": [
    "model = model.double()\n",
    "\n",
    "batch_size = 128\n",
    "\n",
    "train_dataset = CustomDataset(xtrain_st, ytrain)\n",
    "val_dataset = CustomDataset(xval_st, yval)\n",
    "\n",
    "train_loader = torch.utils.data.DataLoader(dataset=train_dataset, \n",
    "                                           batch_size=batch_size, \n",
    "                                           shuffle=True)\n",
    "\n",
    "val_loader = torch.utils.data.DataLoader(dataset=val_dataset, \n",
    "                                          batch_size=batch_size, \n",
    "                                          shuffle=False)"
   ]
  },
  {
   "cell_type": "code",
   "execution_count": 35,
   "metadata": {
    "id": "U29pg8pf2Y82"
   },
   "outputs": [
    {
     "name": "stdout",
     "output_type": "stream",
     "text": [
      "Epoch: 0\n",
      "Train_Loss: 0.810. Train_Accuracy: 70.056\n",
      "Val_Loss: 0.565. Val_Accuracy: 78.908\n",
      "\n",
      "Epoch: 1\n",
      "Train_Loss: 0.508. Train_Accuracy: 81.319\n",
      "Val_Loss: 0.468. Val_Accuracy: 83.058\n",
      "\n",
      "Epoch: 2\n",
      "Train_Loss: 0.432. Train_Accuracy: 84.352\n",
      "Val_Loss: 0.398. Val_Accuracy: 85.567\n",
      "\n",
      "Epoch: 3\n",
      "Train_Loss: 0.390. Train_Accuracy: 85.981\n",
      "Val_Loss: 0.370. Val_Accuracy: 86.450\n",
      "\n",
      "Epoch: 4\n",
      "Train_Loss: 0.357. Train_Accuracy: 87.017\n",
      "Val_Loss: 0.360. Val_Accuracy: 86.742\n",
      "\n",
      "Epoch: 5\n",
      "Train_Loss: 0.339. Train_Accuracy: 87.760\n",
      "Val_Loss: 0.348. Val_Accuracy: 86.950\n",
      "\n",
      "Epoch: 6\n",
      "Train_Loss: 0.320. Train_Accuracy: 88.394\n",
      "Val_Loss: 0.320. Val_Accuracy: 88.158\n",
      "\n",
      "Epoch: 7\n",
      "Train_Loss: 0.303. Train_Accuracy: 88.977\n",
      "Val_Loss: 0.310. Val_Accuracy: 88.850\n",
      "\n",
      "Epoch: 8\n",
      "Train_Loss: 0.291. Train_Accuracy: 89.250\n",
      "Val_Loss: 0.310. Val_Accuracy: 88.233\n",
      "\n",
      "Epoch: 9\n",
      "Train_Loss: 0.278. Train_Accuracy: 89.823\n",
      "Val_Loss: 0.291. Val_Accuracy: 89.408\n",
      "\n"
     ]
    }
   ],
   "source": [
    "# TODO: Train the model\n",
    "# hyper-parmas\n",
    "num_epochs = 10\n",
    "criterion = nn.CrossEntropyLoss()\n",
    "learning_rate = 0.001\n",
    "optimizer = torch.optim.Adam(model.parameters(), lr=learning_rate)\n",
    "\n",
    "train_acc_list= []\n",
    "train_loss_list = []\n",
    "val_acc_list= []\n",
    "val_loss_list = []\n",
    "\n",
    "for epoch in range(num_epochs):\n",
    "    ### train\n",
    "    \n",
    "    # log train acc\n",
    "    train_accuracies = AverageMeter()\n",
    "    train_losses = AverageMeter()\n",
    "    \n",
    "    for i, (images, labels) in enumerate(train_loader):\n",
    "        # Load images with gradient accumulation capabilities\n",
    "        images = torch.unsqueeze(images, 1)\n",
    "        images = images.requires_grad_()\n",
    "\n",
    "        # Forward pass to get output/logits\n",
    "        outputs = model(images)\n",
    "\n",
    "        ### Calculate Loss and Acc: softmax --> cross entropy loss\n",
    "        labels = labels.reshape(-1)\n",
    "        loss = criterion(outputs, labels)\n",
    "        acc1, _ = accuracy(outputs.data, labels, topk=(1, 2))\n",
    "    \n",
    "        # update avg meter for loss and acc\n",
    "        train_losses.update(loss.data.item(), images.size(0))\n",
    "        train_accuracies.update(acc1.item(), images.size(0))\n",
    "        \n",
    "\n",
    "        # Clear gradients w.r.t. parameters\n",
    "        optimizer.zero_grad()\n",
    "        \n",
    "        # Getting gradients w.r.t. parameters\n",
    "        loss.backward()\n",
    "\n",
    "        # Updating parameters\n",
    "        optimizer.step()\n",
    "        \n",
    "\n",
    "    train_acc_list.append(train_accuracies.avg)\n",
    "    train_loss_list.append(train_losses.avg)\n",
    "        \n",
    "    # Print Avg Train Loss & Train Acc/epoch\n",
    "    print('Epoch: {}'.format(epoch))\n",
    "    print('Train_Loss: {:.3f}. Train_Accuracy: {:.3f}'.format(train_losses.avg, train_accuracies.avg))\n",
    "\n",
    "    \n",
    "    ### val\n",
    "    \n",
    "    # log val acc\n",
    "    val_accuracies = AverageMeter()\n",
    "    val_losses = AverageMeter() \n",
    "    \n",
    "    model.eval()\n",
    "    with torch.no_grad():\n",
    "        \n",
    "        # Iterate through val dataset\n",
    "        for images, labels in val_loader:\n",
    "            # Load images with gradient accumulation capabilities\n",
    "            images = torch.unsqueeze(images, 1)\n",
    "            images = images.requires_grad_()\n",
    "\n",
    "            # Forward pass only to get logits/output\n",
    "            outputs = model(images)\n",
    "\n",
    "            ### Calculate Loss and Acc: softmax --> cross entropy loss\n",
    "            labels = labels.reshape(-1)\n",
    "            loss = criterion(outputs, labels)\n",
    "            acc1, _ = accuracy(outputs.data, labels, topk=(1, 2))\n",
    "\n",
    "            # update avg meter for loss and acc\n",
    "            val_losses.update(loss.data.item(), images.size(0))\n",
    "            val_accuracies.update(acc1.item(), images.size(0))\n",
    "        \n",
    "\n",
    "    val_acc_list.append(val_accuracies.avg)\n",
    "    val_loss_list.append(val_losses.avg)\n",
    "        \n",
    "    # Print Avg Train Loss & Train Acc/epoch\n",
    "    print('Val_Loss: {:.3f}. Val_Accuracy: {:.3f}'.format(val_losses.avg, val_accuracies.avg))\n",
    "    print()\n"
   ]
  },
  {
   "cell_type": "code",
   "execution_count": 36,
   "metadata": {
    "id": "uDUuBV5f2bzp"
   },
   "outputs": [
    {
     "data": {
      "image/png": "[encoded data removed]",
      "text/plain": [
       "<Figure size 432x288 with 1 Axes>"
      ]
     },
     "metadata": {
      "needs_background": "light"
     },
     "output_type": "display_data"
    }
   ],
   "source": [
    "# TODO: Plot accuracy and loss over epochs\n",
    "# plot train vs validation loss\n",
    "\n",
    "plt.plot(range(10), train_loss_list, label = \"Train Loss\")\n",
    "plt.plot(range(10), val_loss_list, label = \"Val Loss\")\n",
    "plt.xticks(range(0,10))\n",
    "plt.xlabel(\"Epoch\")\n",
    "plt.ylabel(\"Loss\")\n",
    "plt.legend()\n",
    "plt.show()"
   ]
  },
  {
   "cell_type": "code",
   "execution_count": 37,
   "metadata": {},
   "outputs": [
    {
     "data": {
      "image/png": "[encoded data removed]",
      "text/plain": [
       "<Figure size 432x288 with 1 Axes>"
      ]
     },
     "metadata": {
      "needs_background": "light"
     },
     "output_type": "display_data"
    }
   ],
   "source": [
    "# plot train vs validation acc\n",
    "\n",
    "plt.plot(range(10), train_acc_list, label = \"Train Acc\")\n",
    "plt.plot(range(10), val_acc_list, label = \"Val Acc\")\n",
    "plt.xticks(range(0,10))\n",
    "plt.xlabel(\"Epoch\")\n",
    "plt.ylabel(\"Acc\")\n",
    "plt.legend()\n",
    "plt.show()"
   ]
  },
  {
   "cell_type": "code",
   "execution_count": 38,
   "metadata": {
    "id": "KZ0Bu5LY0uY9"
   },
   "outputs": [
    {
     "name": "stdout",
     "output_type": "stream",
     "text": [
      "Test_Loss: 0.315. Test_Accuracy: 88.590\n",
      "\n"
     ]
    }
   ],
   "source": [
    "# TODO: Report model performance on test set\n",
    "\n",
    "# evaluate\n",
    "\n",
    "test_dataset = CustomDataset(xtest_st, ytest)\n",
    "\n",
    "test_loader = torch.utils.data.DataLoader(dataset=test_dataset, \n",
    "                                          batch_size=batch_size, \n",
    "                                          shuffle=False)\n",
    "\n",
    "### test\n",
    "test_acc_list= []\n",
    "test_loss_list = []\n",
    "\n",
    "# log test acc\n",
    "test_accuracies = AverageMeter()\n",
    "test_losses = AverageMeter() \n",
    "\n",
    "# save GT and pred labels\n",
    "ypred = []\n",
    "ytrue = []\n",
    "    \n",
    "model.eval()\n",
    "with torch.no_grad():\n",
    "        \n",
    "    # Iterate through val dataset\n",
    "    for images, labels in test_loader:\n",
    "        # Load images with gradient accumulation capabilities\n",
    "        images = torch.unsqueeze(images, 1)\n",
    "        images = images.requires_grad_()\n",
    "        \n",
    "        # Forward pass only to get logits/output\n",
    "        outputs = model(images)\n",
    "\n",
    "        ### Calculate Loss and Acc: softmax --> cross entropy loss\n",
    "        labels = labels.reshape(-1)\n",
    "        loss = criterion(outputs, labels)\n",
    "        acc1, _ = accuracy(outputs.data, labels, topk=(1, 2))\n",
    "\n",
    "        # update avg meter for loss and acc\n",
    "        test_losses.update(loss.data.item(), images.size(0))\n",
    "        test_accuracies.update(acc1.item(), images.size(0))\n",
    "        \n",
    "        # save GT and pred labels\n",
    "        outputs = (torch.max(torch.exp(outputs), 1)[1]).data.cpu().numpy()\n",
    "        ypred.extend(outputs) # Save Prediction\n",
    "        \n",
    "        labels = labels.data.cpu().numpy()\n",
    "        ytrue.extend(labels) # Save Truth\n",
    "        \n",
    "\n",
    "test_acc_list.append(test_accuracies.avg)\n",
    "test_loss_list.append(test_losses.avg)\n",
    "        \n",
    "# Print Avg Train Loss & Train Acc/epoch\n",
    "print('Test_Loss: {:.3f}. Test_Accuracy: {:.3f}'.format(test_losses.avg, test_accuracies.avg))\n",
    "print()"
   ]
  },
  {
   "cell_type": "markdown",
   "metadata": {
    "id": "2vWbRI172cgs"
   },
   "source": [
    "**What do you see from the plots? Are there signs of overfitting? If so, what are \n",
    "the signs and what techniques can we use to combat overfitting?**"
   ]
  },
  {
   "cell_type": "markdown",
   "metadata": {},
   "source": [
    "**Answer:** The validation model performance is a bit unstable and also is much worse than training time in both loss and accuracy viewpoint. Yes there are signs of overfitting where as the epochs progress, the training loss keeps decreasing but the validation loss starts to slightly increase again. We can use drop-out and L1/L2 regularization to overcome overfitting. Another method could be collecting a more diverse dataset and adding it to our training or dropping some of the model features. Early stopping or ensembling could be another solution."
   ]
  },
  {
   "cell_type": "markdown",
   "metadata": {
    "id": "JLF1EHW53LkK"
   },
   "source": [
    "### 4.3 Overfitting"
   ]
  },
  {
   "cell_type": "markdown",
   "metadata": {
    "id": "sAwdh9KE3TYw"
   },
   "source": [
    "### 4.3.1 Drop-out\n",
    "\n",
    "To overcome overfitting, we will train the network again with dropout this time. For hidden layers use dropout probability of 0.5. Train the model again for 15 epochs, use two plots to display train vs validation metric scores and train vs validation loss over each epoch. Report model performance on test set. What's your observation?"
   ]
  },
  {
   "cell_type": "code",
   "execution_count": 39,
   "metadata": {
    "id": "fuuIeuLr2cyy"
   },
   "outputs": [],
   "source": [
    "# TODO: build the model with drop-out layers\n",
    "\n",
    "# TODO: build the model\n",
    "\n",
    "# build model\n",
    "import cv2\n",
    "import torch\n",
    "import torchvision\n",
    "import torchvision.transforms as transforms\n",
    "from torch.utils.data import DataLoader\n",
    "import torchvision.models as models\n",
    "import matplotlib.pyplot as plt\n",
    "import numpy as np\n",
    "\n",
    "import torch.nn as nn\n",
    "import torch.nn.functional as F\n",
    "import torch.optim as optim\n",
    "from torch.utils.data import random_split\n",
    "\n",
    "import math\n",
    "import os\n",
    "import argparse\n",
    "\n",
    "class DropNet(nn.Module):\n",
    "\n",
    "    def __init__(self):\n",
    "        super().__init__()\n",
    "\n",
    "        self.conv_model = nn.Sequential(\n",
    "                      #1\n",
    "                      nn.Conv2d(1, 6, kernel_size=5, stride=1, padding= 2, bias=True),\n",
    "                      nn.ReLU(inplace=True),\n",
    "                      nn.Dropout(0.5),\n",
    "                      nn.MaxPool2d(2, stride=2),\n",
    "            \n",
    "                      #2\n",
    "                      nn.Conv2d(6, 16, kernel_size=5, stride= 1, padding =0, bias=True),\n",
    "                      nn.ReLU(inplace=True),\n",
    "                      nn.Dropout(0.5),\n",
    "                      nn.MaxPool2d(2, stride=2),\n",
    "                      \n",
    "                      #3\n",
    "                      nn.Conv2d(16, 120, kernel_size=5, stride= 1, padding =0, bias=True),\n",
    "                      nn.Dropout(0.5),\n",
    "                      nn.ReLU(inplace=True)\n",
    "\n",
    "            )\n",
    "        \n",
    "        self.fc = nn.Sequential(\n",
    "                      #4 FC\n",
    "                      nn.Linear(120, 84, bias=True),\n",
    "                      nn.ReLU(inplace=True),\n",
    "            \n",
    "                      # FC\n",
    "                      nn.Linear(84, 10, bias=True),\n",
    "                      \n",
    "                      # removing softmax because CrossEntropyLoss already has softmax incorporated\n",
    "                      # we do not want to apply softmax redundantly\n",
    "            )\n",
    "        \n",
    "\n",
    "        \n",
    "        \n",
    "    def forward(self, x):\n",
    "\n",
    "        #call the conv layers\n",
    "        x = self.conv_model(x)\n",
    "        x = x.reshape(x.size(0), -1)\n",
    "        x = self.fc(x)\n",
    "        \n",
    "        return x"
   ]
  },
  {
   "cell_type": "code",
   "execution_count": 40,
   "metadata": {
    "id": "NHO8H27U3XUH"
   },
   "outputs": [
    {
     "name": "stdout",
     "output_type": "stream",
     "text": [
      "Epoch: 0\n",
      "Train_Loss: 0.872. Train_Accuracy: 67.263\n",
      "Val_Loss: 0.884. Val_Accuracy: 77.542\n",
      "\n",
      "Epoch: 1\n",
      "Train_Loss: 0.513. Train_Accuracy: 80.529\n",
      "Val_Loss: 0.443. Val_Accuracy: 83.700\n",
      "\n",
      "Epoch: 2\n",
      "Train_Loss: 0.418. Train_Accuracy: 84.654\n",
      "Val_Loss: 0.396. Val_Accuracy: 85.167\n",
      "\n",
      "Epoch: 3\n",
      "Train_Loss: 0.370. Train_Accuracy: 86.396\n",
      "Val_Loss: 0.358. Val_Accuracy: 86.567\n",
      "\n",
      "Epoch: 4\n",
      "Train_Loss: 0.334. Train_Accuracy: 87.725\n",
      "Val_Loss: 0.327. Val_Accuracy: 87.792\n",
      "\n",
      "Epoch: 5\n",
      "Train_Loss: 0.311. Train_Accuracy: 88.527\n",
      "Val_Loss: 0.309. Val_Accuracy: 88.558\n",
      "\n",
      "Epoch: 6\n",
      "Train_Loss: 0.292. Train_Accuracy: 89.198\n",
      "Val_Loss: 0.301. Val_Accuracy: 88.583\n",
      "\n",
      "Epoch: 7\n",
      "Train_Loss: 0.275. Train_Accuracy: 89.846\n",
      "Val_Loss: 0.282. Val_Accuracy: 89.592\n",
      "\n",
      "Epoch: 8\n",
      "Train_Loss: 0.261. Train_Accuracy: 90.406\n",
      "Val_Loss: 0.281. Val_Accuracy: 89.517\n",
      "\n",
      "Epoch: 9\n",
      "Train_Loss: 0.252. Train_Accuracy: 90.579\n",
      "Val_Loss: 0.279. Val_Accuracy: 89.567\n",
      "\n",
      "Epoch: 10\n",
      "Train_Loss: 0.242. Train_Accuracy: 90.981\n",
      "Val_Loss: 0.270. Val_Accuracy: 89.883\n",
      "\n",
      "Epoch: 11\n",
      "Train_Loss: 0.230. Train_Accuracy: 91.352\n",
      "Val_Loss: 0.262. Val_Accuracy: 90.450\n",
      "\n",
      "Epoch: 12\n",
      "Train_Loss: 0.220. Train_Accuracy: 91.698\n",
      "Val_Loss: 0.275. Val_Accuracy: 89.892\n",
      "\n",
      "Epoch: 13\n",
      "Train_Loss: 0.212. Train_Accuracy: 92.077\n",
      "Val_Loss: 0.249. Val_Accuracy: 90.908\n",
      "\n",
      "Epoch: 14\n",
      "Train_Loss: 0.201. Train_Accuracy: 92.502\n",
      "Val_Loss: 0.243. Val_Accuracy: 91.217\n",
      "\n"
     ]
    }
   ],
   "source": [
    "# TODO: train the model\n",
    "\n",
    "model = DropNet().double()\n",
    "\n",
    "# hyper-parmas\n",
    "num_epochs = 15\n",
    "criterion = nn.CrossEntropyLoss()\n",
    "learning_rate = 0.001\n",
    "optimizer = torch.optim.Adam(model.parameters(), lr=learning_rate)\n",
    "\n",
    "train_acc_list= []\n",
    "train_loss_list = []\n",
    "val_acc_list= []\n",
    "val_loss_list = []\n",
    "\n",
    "for epoch in range(num_epochs):\n",
    "    ### train\n",
    "    \n",
    "    # log train acc\n",
    "    train_accuracies = AverageMeter()\n",
    "    train_losses = AverageMeter()\n",
    "    \n",
    "    for i, (images, labels) in enumerate(train_loader):\n",
    "        # Load images with gradient accumulation capabilities\n",
    "        images = torch.unsqueeze(images, 1)\n",
    "        images = images.requires_grad_()\n",
    "\n",
    "        # Forward pass to get output/logits\n",
    "        outputs = model(images)\n",
    "\n",
    "        ### Calculate Loss and Acc: softmax --> cross entropy loss\n",
    "        labels = labels.reshape(-1)\n",
    "        loss = criterion(outputs, labels)\n",
    "        acc1, _ = accuracy(outputs.data, labels, topk=(1, 2))\n",
    "    \n",
    "        # update avg meter for loss and acc\n",
    "        train_losses.update(loss.data.item(), images.size(0))\n",
    "        train_accuracies.update(acc1.item(), images.size(0))\n",
    "        \n",
    "\n",
    "        # Clear gradients w.r.t. parameters\n",
    "        optimizer.zero_grad()\n",
    "        \n",
    "        # Getting gradients w.r.t. parameters\n",
    "        loss.backward()\n",
    "\n",
    "        # Updating parameters\n",
    "        optimizer.step()\n",
    "        \n",
    "\n",
    "    train_acc_list.append(train_accuracies.avg)\n",
    "    train_loss_list.append(train_losses.avg)\n",
    "        \n",
    "    # Print Avg Train Loss & Train Acc/epoch\n",
    "    print('Epoch: {}'.format(epoch))\n",
    "    print('Train_Loss: {:.3f}. Train_Accuracy: {:.3f}'.format(train_losses.avg, train_accuracies.avg))\n",
    "\n",
    "    \n",
    "    ### val\n",
    "    \n",
    "    # log val acc\n",
    "    val_accuracies = AverageMeter()\n",
    "    val_losses = AverageMeter() \n",
    "    \n",
    "    model.eval()\n",
    "    with torch.no_grad():\n",
    "        \n",
    "        # Iterate through val dataset\n",
    "        for images, labels in val_loader:\n",
    "            # Load images with gradient accumulation capabilities\n",
    "            images = torch.unsqueeze(images, 1)\n",
    "            images = images.requires_grad_()\n",
    "\n",
    "            # Forward pass only to get logits/output\n",
    "            outputs = model(images)\n",
    "\n",
    "            ### Calculate Loss and Acc: softmax --> cross entropy loss\n",
    "            labels = labels.reshape(-1)\n",
    "            loss = criterion(outputs, labels)\n",
    "            acc1, _ = accuracy(outputs.data, labels, topk=(1, 2))\n",
    "\n",
    "            # update avg meter for loss and acc\n",
    "            val_losses.update(loss.data.item(), images.size(0))\n",
    "            val_accuracies.update(acc1.item(), images.size(0))\n",
    "        \n",
    "\n",
    "    val_acc_list.append(val_accuracies.avg)\n",
    "    val_loss_list.append(val_losses.avg)\n",
    "        \n",
    "    # Print Avg Train Loss & Train Acc/epoch\n",
    "    print('Val_Loss: {:.3f}. Val_Accuracy: {:.3f}'.format(val_losses.avg, val_accuracies.avg))\n",
    "    print()"
   ]
  },
  {
   "cell_type": "code",
   "execution_count": 41,
   "metadata": {
    "id": "AqVpRdFA3YWx"
   },
   "outputs": [
    {
     "data": {
      "image/png": "[encoded data removed]",
      "text/plain": [
       "<Figure size 432x288 with 1 Axes>"
      ]
     },
     "metadata": {
      "needs_background": "light"
     },
     "output_type": "display_data"
    }
   ],
   "source": [
    "# TODO: plot \n",
    "# plot train vs validation loss\n",
    "\n",
    "plt.plot(range(15), train_loss_list, label = \"Train Loss\")\n",
    "plt.plot(range(15), val_loss_list, label = \"Val Loss\")\n",
    "plt.xticks(range(0,15))\n",
    "plt.xlabel(\"Epoch\")\n",
    "plt.ylabel(\"Loss\")\n",
    "plt.legend()\n",
    "plt.show()"
   ]
  },
  {
   "cell_type": "code",
   "execution_count": 42,
   "metadata": {},
   "outputs": [
    {
     "data": {
      "image/png": "[encoded data removed]",
      "text/plain": [
       "<Figure size 432x288 with 1 Axes>"
      ]
     },
     "metadata": {
      "needs_background": "light"
     },
     "output_type": "display_data"
    }
   ],
   "source": [
    "# plot train vs validation acc\n",
    "\n",
    "plt.plot(range(15), train_acc_list, label = \"Train Acc\")\n",
    "plt.plot(range(15), val_acc_list, label = \"Val Acc\")\n",
    "plt.xticks(range(0,15))\n",
    "plt.xlabel(\"Epoch\")\n",
    "plt.ylabel(\"Acc\")\n",
    "plt.legend()\n",
    "plt.show()"
   ]
  },
  {
   "cell_type": "code",
   "execution_count": 43,
   "metadata": {
    "id": "N9UHe8wc0xoh"
   },
   "outputs": [
    {
     "name": "stdout",
     "output_type": "stream",
     "text": [
      "Test_Loss: 0.270. Test_Accuracy: 90.130\n",
      "\n"
     ]
    }
   ],
   "source": [
    "# TODO: Report model performance on test set\n",
    "\n",
    "# evaluate\n",
    "\n",
    "test_dataset = CustomDataset(xtest_st, ytest)\n",
    "\n",
    "test_loader = torch.utils.data.DataLoader(dataset=test_dataset, \n",
    "                                          batch_size=batch_size, \n",
    "                                          shuffle=False)\n",
    "\n",
    "### test\n",
    "test_acc_list= []\n",
    "test_loss_list = []\n",
    "\n",
    "# log test acc\n",
    "test_accuracies = AverageMeter()\n",
    "test_losses = AverageMeter() \n",
    "\n",
    "# save GT and pred labels\n",
    "ypred = []\n",
    "ytrue = []\n",
    "    \n",
    "model.eval()\n",
    "with torch.no_grad():\n",
    "        \n",
    "    # Iterate through val dataset\n",
    "    for images, labels in test_loader:\n",
    "        # Load images with gradient accumulation capabilities\n",
    "        images = torch.unsqueeze(images, 1)\n",
    "        images = images.requires_grad_()\n",
    "        \n",
    "        # Forward pass only to get logits/output\n",
    "        outputs = model(images)\n",
    "\n",
    "        ### Calculate Loss and Acc: softmax --> cross entropy loss\n",
    "        labels = labels.reshape(-1)\n",
    "        loss = criterion(outputs, labels)\n",
    "        acc1, _ = accuracy(outputs.data, labels, topk=(1, 2))\n",
    "\n",
    "        # update avg meter for loss and acc\n",
    "        test_losses.update(loss.data.item(), images.size(0))\n",
    "        test_accuracies.update(acc1.item(), images.size(0))\n",
    "        \n",
    "        # save GT and pred labels\n",
    "        outputs = (torch.max(torch.exp(outputs), 1)[1]).data.cpu().numpy()\n",
    "        ypred.extend(outputs) # Save Prediction\n",
    "        \n",
    "        labels = labels.data.cpu().numpy()\n",
    "        ytrue.extend(labels) # Save Truth\n",
    "        \n",
    "\n",
    "test_acc_list.append(test_accuracies.avg)\n",
    "test_loss_list.append(test_losses.avg)\n",
    "        \n",
    "# Print Avg Train Loss & Train Acc/epoch\n",
    "print('Test_Loss: {:.3f}. Test_Accuracy: {:.3f}'.format(test_losses.avg, test_accuracies.avg))\n",
    "print()"
   ]
  },
  {
   "cell_type": "markdown",
   "metadata": {
    "id": "sEkTmvJp3aJB"
   },
   "source": [
    "**What's your observation?**\n",
    "\n",
    "**Answer:** By using drop out, the performance gap between the train and validation is much smaller now and very well aligned, meaning the overfitting has somewhat been resolved. Also, the validation performance is more stable and smoother."
   ]
  },
  {
   "cell_type": "markdown",
   "metadata": {
    "id": "gWS2JA103fyv"
   },
   "source": [
    "### 4.3.2 Batch Normalization\n",
    "\n",
    "This time, let's apply a batch normalization after every hidden layer, train the model for 15 epochs, plot the metric scores and loss values, and report model performance on test set as above. Compare this technique with the original model and with dropout, which technique do you think helps with overfitting better?"
   ]
  },
  {
   "cell_type": "code",
   "execution_count": 44,
   "metadata": {
    "id": "4RWSvq8w3baJ"
   },
   "outputs": [],
   "source": [
    "# TODO: build the model with batch normalization layers\n",
    "\n",
    "# build model\n",
    "import cv2\n",
    "import torch\n",
    "import torchvision\n",
    "import torchvision.transforms as transforms\n",
    "from torch.utils.data import DataLoader\n",
    "import torchvision.models as models\n",
    "import matplotlib.pyplot as plt\n",
    "import numpy as np\n",
    "\n",
    "import torch.nn as nn\n",
    "import torch.nn.functional as F\n",
    "import torch.optim as optim\n",
    "from torch.utils.data import random_split\n",
    "\n",
    "import math\n",
    "import os\n",
    "import argparse\n",
    "\n",
    "class BatchNormNet(nn.Module):\n",
    "\n",
    "    def __init__(self):\n",
    "        super().__init__()\n",
    "\n",
    "        self.conv_model = nn.Sequential(\n",
    "                      #1\n",
    "                      nn.Conv2d(1, 6, kernel_size=5, stride=1, padding= 2, bias=True),\n",
    "                      nn.BatchNorm2d(6),\n",
    "                      nn.ReLU(inplace=True),\n",
    "                      nn.MaxPool2d(2, stride=2),\n",
    "            \n",
    "                      #2\n",
    "                      nn.Conv2d(6, 16, kernel_size=5, stride= 1, padding =0, bias=True),\n",
    "                      nn.BatchNorm2d(16),\n",
    "                      nn.ReLU(inplace=True),\n",
    "                      nn.MaxPool2d(2, stride=2),\n",
    "                      \n",
    "                      #3\n",
    "                      nn.Conv2d(16, 120, kernel_size=5, stride= 1, padding =0, bias=True),\n",
    "                      nn.BatchNorm2d(120),\n",
    "                      nn.ReLU(inplace=True)\n",
    "\n",
    "            )\n",
    "        \n",
    "        self.fc = nn.Sequential(\n",
    "                      #4 FC\n",
    "                      nn.Linear(120, 84, bias=True),\n",
    "                      nn.ReLU(inplace=True),\n",
    "            \n",
    "                      # FC\n",
    "                      nn.Linear(84, 10, bias=True),\n",
    "                      \n",
    "                      # removing softmax because CrossEntropyLoss already has softmax incorporated\n",
    "                      # we do not want to apply softmax redundantly\n",
    "            )\n",
    "        \n",
    "\n",
    "        \n",
    "        \n",
    "    def forward(self, x):\n",
    "\n",
    "        #call the conv layers\n",
    "        x = self.conv_model(x)\n",
    "        x = x.reshape(x.size(0), -1)\n",
    "        x = self.fc(x)\n",
    "        \n",
    "        return x"
   ]
  },
  {
   "cell_type": "code",
   "execution_count": 45,
   "metadata": {
    "id": "xiexPx913kTA"
   },
   "outputs": [
    {
     "name": "stdout",
     "output_type": "stream",
     "text": [
      "Epoch: 0\n",
      "Train_Loss: 0.473. Train_Accuracy: 84.165\n",
      "Val_Loss: 0.328. Val_Accuracy: 87.842\n",
      "\n",
      "Epoch: 1\n",
      "Train_Loss: 0.310. Train_Accuracy: 88.658\n",
      "Val_Loss: 0.300. Val_Accuracy: 88.775\n",
      "\n",
      "Epoch: 2\n",
      "Train_Loss: 0.265. Train_Accuracy: 90.140\n",
      "Val_Loss: 0.283. Val_Accuracy: 89.200\n",
      "\n",
      "Epoch: 3\n",
      "Train_Loss: 0.244. Train_Accuracy: 90.906\n",
      "Val_Loss: 0.277. Val_Accuracy: 89.925\n",
      "\n",
      "Epoch: 4\n",
      "Train_Loss: 0.226. Train_Accuracy: 91.621\n",
      "Val_Loss: 0.263. Val_Accuracy: 90.233\n",
      "\n",
      "Epoch: 5\n",
      "Train_Loss: 0.206. Train_Accuracy: 92.142\n",
      "Val_Loss: 0.260. Val_Accuracy: 90.775\n",
      "\n",
      "Epoch: 6\n",
      "Train_Loss: 0.194. Train_Accuracy: 92.704\n",
      "Val_Loss: 0.291. Val_Accuracy: 89.500\n",
      "\n",
      "Epoch: 7\n",
      "Train_Loss: 0.186. Train_Accuracy: 92.931\n",
      "Val_Loss: 0.282. Val_Accuracy: 90.283\n",
      "\n",
      "Epoch: 8\n",
      "Train_Loss: 0.172. Train_Accuracy: 93.569\n",
      "Val_Loss: 0.263. Val_Accuracy: 91.233\n",
      "\n",
      "Epoch: 9\n",
      "Train_Loss: 0.157. Train_Accuracy: 94.069\n",
      "Val_Loss: 0.281. Val_Accuracy: 90.925\n",
      "\n",
      "Epoch: 10\n",
      "Train_Loss: 0.148. Train_Accuracy: 94.458\n",
      "Val_Loss: 0.272. Val_Accuracy: 90.792\n",
      "\n",
      "Epoch: 11\n",
      "Train_Loss: 0.138. Train_Accuracy: 94.808\n",
      "Val_Loss: 0.284. Val_Accuracy: 90.858\n",
      "\n",
      "Epoch: 12\n",
      "Train_Loss: 0.129. Train_Accuracy: 94.956\n",
      "Val_Loss: 0.306. Val_Accuracy: 90.608\n",
      "\n",
      "Epoch: 13\n",
      "Train_Loss: 0.120. Train_Accuracy: 95.435\n",
      "Val_Loss: 0.312. Val_Accuracy: 90.700\n",
      "\n",
      "Epoch: 14\n",
      "Train_Loss: 0.113. Train_Accuracy: 95.665\n",
      "Val_Loss: 0.316. Val_Accuracy: 90.775\n",
      "\n"
     ]
    }
   ],
   "source": [
    "# TODO: train the model\n",
    "\n",
    "model = BatchNormNet().double()\n",
    "\n",
    "# hyper-parmas\n",
    "num_epochs = 15\n",
    "criterion = nn.CrossEntropyLoss()\n",
    "learning_rate = 0.001\n",
    "optimizer = torch.optim.Adam(model.parameters(), lr=learning_rate)\n",
    "\n",
    "train_acc_list= []\n",
    "train_loss_list = []\n",
    "val_acc_list= []\n",
    "val_loss_list = []\n",
    "\n",
    "for epoch in range(num_epochs):\n",
    "    ### train\n",
    "    \n",
    "    # log train acc\n",
    "    train_accuracies = AverageMeter()\n",
    "    train_losses = AverageMeter()\n",
    "    \n",
    "    for i, (images, labels) in enumerate(train_loader):\n",
    "        # Load images with gradient accumulation capabilities\n",
    "        images = torch.unsqueeze(images, 1)\n",
    "        images = images.requires_grad_()\n",
    "\n",
    "        # Forward pass to get output/logits\n",
    "        outputs = model(images)\n",
    "\n",
    "        ### Calculate Loss and Acc: softmax --> cross entropy loss\n",
    "        labels = labels.reshape(-1)\n",
    "        loss = criterion(outputs, labels)\n",
    "        acc1, _ = accuracy(outputs.data, labels, topk=(1, 2))\n",
    "    \n",
    "        # update avg meter for loss and acc\n",
    "        train_losses.update(loss.data.item(), images.size(0))\n",
    "        train_accuracies.update(acc1.item(), images.size(0))\n",
    "        \n",
    "\n",
    "        # Clear gradients w.r.t. parameters\n",
    "        optimizer.zero_grad()\n",
    "        \n",
    "        # Getting gradients w.r.t. parameters\n",
    "        loss.backward()\n",
    "\n",
    "        # Updating parameters\n",
    "        optimizer.step()\n",
    "        \n",
    "\n",
    "    train_acc_list.append(train_accuracies.avg)\n",
    "    train_loss_list.append(train_losses.avg)\n",
    "        \n",
    "    # Print Avg Train Loss & Train Acc/epoch\n",
    "    print('Epoch: {}'.format(epoch))\n",
    "    print('Train_Loss: {:.3f}. Train_Accuracy: {:.3f}'.format(train_losses.avg, train_accuracies.avg))\n",
    "\n",
    "    \n",
    "    ### val\n",
    "    \n",
    "    # log val acc\n",
    "    val_accuracies = AverageMeter()\n",
    "    val_losses = AverageMeter() \n",
    "    \n",
    "    model.eval()\n",
    "    with torch.no_grad():\n",
    "        \n",
    "        # Iterate through val dataset\n",
    "        for images, labels in val_loader:\n",
    "            # Load images with gradient accumulation capabilities\n",
    "            images = torch.unsqueeze(images, 1)\n",
    "            images = images.requires_grad_()\n",
    "\n",
    "            # Forward pass only to get logits/output\n",
    "            outputs = model(images)\n",
    "\n",
    "            ### Calculate Loss and Acc: softmax --> cross entropy loss\n",
    "            labels = labels.reshape(-1)\n",
    "            loss = criterion(outputs, labels)\n",
    "            acc1, _ = accuracy(outputs.data, labels, topk=(1, 2))\n",
    "\n",
    "            # update avg meter for loss and acc\n",
    "            val_losses.update(loss.data.item(), images.size(0))\n",
    "            val_accuracies.update(acc1.item(), images.size(0))\n",
    "        \n",
    "\n",
    "    val_acc_list.append(val_accuracies.avg)\n",
    "    val_loss_list.append(val_losses.avg)\n",
    "        \n",
    "    # Print Avg Train Loss & Train Acc/epoch\n",
    "    print('Val_Loss: {:.3f}. Val_Accuracy: {:.3f}'.format(val_losses.avg, val_accuracies.avg))\n",
    "    print()"
   ]
  },
  {
   "cell_type": "code",
   "execution_count": 46,
   "metadata": {
    "id": "_HTVgEFP3lNx"
   },
   "outputs": [
    {
     "data": {
      "image/png": "[encoded data removed]",
      "text/plain": [
       "<Figure size 432x288 with 1 Axes>"
      ]
     },
     "metadata": {
      "needs_background": "light"
     },
     "output_type": "display_data"
    }
   ],
   "source": [
    "# TODO: plot\n",
    "# plot train vs validation loss\n",
    "\n",
    "plt.plot(range(15), train_loss_list, label = \"Train Loss\")\n",
    "plt.plot(range(15), val_loss_list, label = \"Val Loss\")\n",
    "plt.xticks(range(0,15))\n",
    "plt.xlabel(\"Epoch\")\n",
    "plt.ylabel(\"Loss\")\n",
    "plt.legend()\n",
    "plt.show()"
   ]
  },
  {
   "cell_type": "code",
   "execution_count": 47,
   "metadata": {},
   "outputs": [
    {
     "data": {
      "image/png": "[encoded data removed]",
      "text/plain": [
       "<Figure size 432x288 with 1 Axes>"
      ]
     },
     "metadata": {
      "needs_background": "light"
     },
     "output_type": "display_data"
    }
   ],
   "source": [
    "# plot train vs validation acc\n",
    "\n",
    "plt.plot(range(15), train_acc_list, label = \"Train Acc\")\n",
    "plt.plot(range(15), val_acc_list, label = \"Val Acc\")\n",
    "plt.xticks(range(0,15))\n",
    "plt.xlabel(\"Epoch\")\n",
    "plt.ylabel(\"Acc\")\n",
    "plt.legend()\n",
    "plt.show()"
   ]
  },
  {
   "cell_type": "code",
   "execution_count": 48,
   "metadata": {
    "id": "0Nyxdl8e0yZN"
   },
   "outputs": [
    {
     "name": "stdout",
     "output_type": "stream",
     "text": [
      "Test_Loss: 0.365. Test_Accuracy: 89.570\n",
      "\n"
     ]
    }
   ],
   "source": [
    "# TODO: Report model performance on test set\n",
    "\n",
    "# evaluate\n",
    "\n",
    "test_dataset = CustomDataset(xtest_st, ytest)\n",
    "\n",
    "test_loader = torch.utils.data.DataLoader(dataset=test_dataset, \n",
    "                                          batch_size=batch_size, \n",
    "                                          shuffle=False)\n",
    "\n",
    "### test\n",
    "test_acc_list= []\n",
    "test_loss_list = []\n",
    "\n",
    "# log test acc\n",
    "test_accuracies = AverageMeter()\n",
    "test_losses = AverageMeter() \n",
    "\n",
    "# save GT and pred labels\n",
    "ypred = []\n",
    "ytrue = []\n",
    "    \n",
    "model.eval()\n",
    "with torch.no_grad():\n",
    "        \n",
    "    # Iterate through val dataset\n",
    "    for images, labels in test_loader:\n",
    "        # Load images with gradient accumulation capabilities\n",
    "        images = torch.unsqueeze(images, 1)\n",
    "        images = images.requires_grad_()\n",
    "        \n",
    "        # Forward pass only to get logits/output\n",
    "        outputs = model(images)\n",
    "\n",
    "        ### Calculate Loss and Acc: softmax --> cross entropy loss\n",
    "        labels = labels.reshape(-1)\n",
    "        loss = criterion(outputs, labels)\n",
    "        acc1, _ = accuracy(outputs.data, labels, topk=(1, 2))\n",
    "\n",
    "        # update avg meter for loss and acc\n",
    "        test_losses.update(loss.data.item(), images.size(0))\n",
    "        test_accuracies.update(acc1.item(), images.size(0))\n",
    "        \n",
    "        # save GT and pred labels\n",
    "        outputs = (torch.max(torch.exp(outputs), 1)[1]).data.cpu().numpy()\n",
    "        ypred.extend(outputs) # Save Prediction\n",
    "        \n",
    "        labels = labels.data.cpu().numpy()\n",
    "        ytrue.extend(labels) # Save Truth\n",
    "        \n",
    "\n",
    "test_acc_list.append(test_accuracies.avg)\n",
    "test_loss_list.append(test_losses.avg)\n",
    "        \n",
    "# Print Avg Train Loss & Train Acc/epoch\n",
    "print('Test_Loss: {:.3f}. Test_Accuracy: {:.3f}'.format(test_losses.avg, test_accuracies.avg))\n",
    "print()"
   ]
  },
  {
   "cell_type": "markdown",
   "metadata": {
    "id": "iSAoSl0a3pRG"
   },
   "source": [
    "**Observation, comparison with Dropout:**\n",
    "\n",
    "**Answer**:\n",
    "\n",
    "Overall, I think that dropout helps with overfitting better than batch norm, because the train/val loss & accuracy graph from the drop out model are more closely aligned together than batch norm, meaning overfitting was resolved much better."
   ]
  },
  {
   "cell_type": "code",
   "execution_count": null,
   "metadata": {},
   "outputs": [],
   "source": []
  }
 ],
 "metadata": {
  "accelerator": "GPU",
  "colab": {
   "collapsed_sections": [],
   "machine_shape": "hm",
   "name": "AML_HW4.ipynb",
   "provenance": []
  },
  "kernelspec": {
   "display_name": "Python 3 (ipykernel)",
   "language": "python",
   "name": "python3"
  },
  "language_info": {
   "codemirror_mode": {
    "name": "ipython",
    "version": 3
   },
   "file_extension": ".py",
   "mimetype": "text/x-python",
   "name": "python",
   "nbconvert_exporter": "python",
   "pygments_lexer": "ipython3",
   "version": "3.9.7"
  }
 },
 "nbformat": 4,
 "nbformat_minor": 1
}
